{
 "cells": [
  {
   "cell_type": "markdown",
   "id": "02acaa85-7908-48a5-8d9c-229af76574bf",
   "metadata": {},
   "source": [
    "# Extended CoCo"
   ]
  },
  {
   "cell_type": "markdown",
   "id": "70b47329-42c4-4dd3-a261-8a03a619e2bc",
   "metadata": {},
   "source": [
    "## THE CODE"
   ]
  },
  {
   "cell_type": "code",
   "execution_count": 14,
   "id": "1a5e7b18-1c50-4fdc-9cbd-86b077635e07",
   "metadata": {},
   "outputs": [],
   "source": [
    "import numpy as np\n",
    "import matplotlib.pyplot as plt"
   ]
  },
  {
   "cell_type": "code",
   "execution_count": 15,
   "id": "bd231fd6-9c24-44e0-9823-44081bfec39f",
   "metadata": {},
   "outputs": [],
   "source": [
    "def parse_nucleotides(sequence):\n",
    "    new_seq = []\n",
    "    map_to_vals = {\"a\": 1, \"c\": 2, \"g\": 3, \"t\":4}\n",
    "    for symbol in sequence:\n",
    "        new_seq.append(map_to_vals[symbol])\n",
    "        \n",
    "    return new_seq"
   ]
  },
  {
   "cell_type": "code",
   "execution_count": 16,
   "id": "3c80be0f-dd9a-4cae-ae16-669aeb7262de",
   "metadata": {},
   "outputs": [],
   "source": [
    "def fixed_maxcount(pos, seqs, seqs_kmers, spaced_kmer_profile, seq_to_investigate=0):\n",
    "    target = seqs[seq_to_investigate]\n",
    "    f = len(spaced_kmer_profile)\n",
    "    counts_i = []\n",
    "    indexes = []\n",
    "    len_loop = min(f-1, pos)\n",
    "    start = pos - len_loop\n",
    "    end = pos+1\n",
    "    for i in range(start, end):\n",
    "        if spaced_kmer_profile[pos-i] != 1:\n",
    "            counts_i.append(0)\n",
    "            indexes.append(-1)\n",
    "            continue\n",
    "            \n",
    "        # Extract k mers starting at selected position\n",
    "        spaced_kmer = target[i : i+f] * spaced_kmer_profile\n",
    "        spaced_kmer = spaced_kmer[spaced_kmer != 0]\n",
    "        s = ''.join(str(x) for x in spaced_kmer)\n",
    "        counts_i.append(seqs_kmers[s]) \n",
    "        indexes.append(i)\n",
    "    \n",
    "    return max(counts_i), indexes[np.argmax(counts_i)]"
   ]
  },
  {
   "cell_type": "code",
   "execution_count": 17,
   "id": "92857362-dd79-4af9-94ba-d7de7eac80e7",
   "metadata": {},
   "outputs": [],
   "source": [
    "#\n",
    "# CORRECT COUNTS - AN ATTEMPT AT FIXING THE ECLIPSE ERROR\n",
    "#\n",
    "def correct_counts_robustly(maxed_counts, maxed_count_indices, target_sequence, start_end_posis, seqs, diff_profile, kmer_profile):\n",
    "    f = len(kmer_profile)\n",
    "    correction_artifact = []\n",
    "    last_correction = 0 \n",
    "    # When corrections are necessary they are written into the maxed_counts array\n",
    "    for i in range(1,len(maxed_count_indices)):\n",
    "        # Make sure we have a change position on our hands.\n",
    "        if maxed_count_indices[i] != maxed_count_indices[i-1] and maxed_counts[i] != maxed_counts[i-1]: \n",
    "            # Correct for reads that start in between the two maxed_count indices:\n",
    "            #start_sum_at = max(i-f,0)\n",
    "            start_sum_at = last_correction\n",
    "            #start_sum_at = max(0, maxed_count_indices[i-1]-f)\n",
    "            #start_sum_at = i-1\n",
    "            end_sum_at = maxed_count_indices[i]+1\n",
    "            #end_sum_at = i+1\n",
    "            \n",
    "            if start_sum_at <= end_sum_at:\n",
    "                correction = sum(start_end_posis[start_sum_at:end_sum_at])\n",
    "            else:\n",
    "                correction = -sum(start_end_posis[end_sum_at:start_sum_at])\n",
    "\n",
    "            # This if clause tries to prevent the eclipse\n",
    "            # The important part of this is that the last_correction is not updated if we have a SNP or seqerr\n",
    "            if diff_profile[i-1] + correction == 0: # If not we have a SNP or seq error\n",
    "                last_correction = maxed_count_indices[i] + 1\n",
    "                diff_profile[i-1] += correction\n",
    "                correction_artifact.append([correction, (start_sum_at, end_sum_at), start_end_posis[start_sum_at:end_sum_at]])\n",
    "            #else:\n",
    "                #print(\"ABORTED:\")\n",
    "                #print(end_sum_at)\n",
    "                #print(start_end_posis[start_sum_at:end_sum_at])\n",
    "    return diff_profile, correction_artifact"
   ]
  },
  {
   "cell_type": "code",
   "execution_count": 18,
   "id": "9457b816-b16e-4390-a207-a5ed71aa8536",
   "metadata": {},
   "outputs": [],
   "source": [
    "def get_correction_profile_robustly(target, seqs, overlap_size):\n",
    "    corr_profile = [0 for i in range(len(target)-overlap_size)]\n",
    "    for i in range(len(target)-overlap_size):\n",
    "        #if i == 0:\n",
    "            # Note that this whole check is necessary because our target sequence, i.e. the read we are investigating at the moment\n",
    "            # also starts at the beginning and would thus be added to the count profile. We anticipate this by increasing the correction\n",
    "            # profile at this point to one s.t. the loop below can reduce it to zero in the first step if just our sequence starts there.\n",
    "            # If another sequence starts here, then the loop below will reduce the correction profile below zero\n",
    "            #corr_profile[0] = 1  \n",
    "        for seq in seqs:\n",
    "            if (target[i : i+overlap_size] == seq[0 : overlap_size]).all(): # starts\n",
    "                corr_profile[i] -= 1\n",
    "            elif (target[i : i+overlap_size] == seq[len(seq)-overlap_size : len(seq)]).all(): # ends\n",
    "                corr_profile[i] += 1\n",
    "    corr_profile[0]=0\n",
    "    return corr_profile"
   ]
  },
  {
   "cell_type": "code",
   "execution_count": 19,
   "id": "b57428ee-33b6-4184-9ed2-c7ffa98f5db0",
   "metadata": {},
   "outputs": [],
   "source": [
    "def correct_robustly(filename, str_profile, seq_to_investigate):\n",
    "    seqs = []\n",
    "    with open(filename) as file_in:\n",
    "        for line in file_in:\n",
    "            newline = line.rstrip('\\n')\n",
    "            sequence_chars = [char for char in newline]\n",
    "            sequence = parse_nucleotides(sequence_chars)\n",
    "            seqs.append(np.array(sequence))\n",
    "    \n",
    "    profile = [int(character) for character in str_profile]\n",
    "    k = sum(profile)\n",
    "    f = len(profile)\n",
    "    \n",
    "    # Turn into np arrays for componentwise multiplication\n",
    "    profile = np.array(profile)\n",
    "    \n",
    "    # Count occurence of spaced k-mers\n",
    "    seqs_kmers = {}\n",
    "    for sequence in seqs:\n",
    "        for i in range(len(sequence) - f):\n",
    "            spaced_kmer = sequence[i:i+f] * profile\n",
    "            spaced_kmer = spaced_kmer[spaced_kmer != 0]\n",
    "            s = ''.join(str(x) for x in spaced_kmer)\n",
    "            if s not in seqs_kmers:\n",
    "                seqs_kmers[s] = 1\n",
    "            else:\n",
    "                seqs_kmers[s] += 1\n",
    "    \n",
    "    # Get maxcounts from counts\n",
    "    target = seqs[seq_to_investigate]\n",
    "    xpoints = np.array([i for i in range(len(target) - f)])\n",
    "    max_counts = []\n",
    "    max_count_indices = []\n",
    "    for i in range(len(xpoints)):\n",
    "        maxp, argmaxp = fixed_maxcount(i, seqs, seqs_kmers, profile, seq_to_investigate=seq_to_investigate)\n",
    "        max_counts.append(maxp)\n",
    "        max_count_indices.append(argmaxp)\n",
    "    #print(max_count_indices)\n",
    "    # Get correction profile:\n",
    "    start_end_posis = get_correction_profile_robustly(target, seqs, f)\n",
    "    #print(start_end_posis)\n",
    "    #print(max_count_indices)\n",
    "    \n",
    "    # Get diff profile:\n",
    "    pre_corr_diff_profile = [max_counts[j] - max_counts[j-1] for j in range(1,len(max_counts))]\n",
    "    \n",
    "    # Apply correction strategy\n",
    "    ypoints, correction_artifact = correct_counts_robustly(max_counts, max_count_indices, target, start_end_posis, seqs, pre_corr_diff_profile.copy(), profile)\n",
    "    return xpoints[1:], ypoints, max_counts, start_end_posis, pre_corr_diff_profile, correction_artifact, max_count_indices\n"
   ]
  },
  {
   "cell_type": "markdown",
   "id": "70e72884-0f3a-4b7b-86fd-9666b7ce6622",
   "metadata": {},
   "source": [
    "# Tests"
   ]
  },
  {
   "cell_type": "markdown",
   "id": "116247ad-3fe2-4ab2-b2d7-b719d4c5b2f5",
   "metadata": {},
   "source": [
    "## Simple Test"
   ]
  },
  {
   "cell_type": "code",
   "execution_count": 20,
   "id": "07607a3b-f02a-4a68-85a0-be09a205a7de",
   "metadata": {},
   "outputs": [
    {
     "name": "stdout",
     "output_type": "stream",
     "text": [
      "[0, 0, 0, 0, 0, 0, 0, 0, 0, 0, 0, 0, 0, 0, 0, 0, 0, 0, 0, 0, 0, 0, 0, 0, 0, 0, 0, 0, 0, 0, 0, 0, 0, 0, 0, 0, 0, 1, 0, 0, 0, 0, 0, 0, 0, 0, 0, 0, 0, 0, 0, 0, 0, 0, 0, 0, 0, 0, 0, 0, 0, 0, 0, 0, 0, 0, 0, 0, 0, 0, 0, 0, 0, 0, 0, 0, 0, 0, 0, 0, 0, 0, 0, 0, 0, 0, 0, 0, 0, 0, 0, 0, 0, 0, 0, 1, 0, 0, 0, 0, 0, 0, 0, 0, 0, 0, 0, 0, 0, 0, 0, 0, 0, 0, 0, 0, 0, 0, 0, 0, 0, 0, 0, 0, 0, 0, 0, 0, 0, 0, 0, 0, 0, 0, 0, 0, 0, 1, 0, 0, 0, 0, 0, 0, 0, 0, 0, 0, 0, 0, 0, 0, 0, 0, 0, 0, 0, 0, 0, 0, 0, 0, 0, 0, 0, 0, 0, 0, 0, 0, 0, 0, 0, 0, 0, 0, 0, 0, 0, 0, 0, 0, 0, 0, 0, 0, 0, 0]\n",
      "[[1, (0, 38), [0, 0, 0, 0, 0, 0, 0, 0, 0, 0, 0, 0, 0, 0, 0, 0, 0, 0, 0, 0, 0, 0, 0, 0, 0, 0, 0, 0, 0, 0, 0, 0, 0, 0, 0, 0, 0, 1]], [1, (38, 96), [0, 0, 0, 0, 0, 0, 0, 0, 0, 0, 0, 0, 0, 0, 0, 0, 0, 0, 0, 0, 0, 0, 0, 0, 0, 0, 0, 0, 0, 0, 0, 0, 0, 0, 0, 0, 0, 0, 0, 0, 0, 0, 0, 0, 0, 0, 0, 0, 0, 0, 0, 0, 0, 0, 0, 0, 0, 1]], [1, (96, 138), [0, 0, 0, 0, 0, 0, 0, 0, 0, 0, 0, 0, 0, 0, 0, 0, 0, 0, 0, 0, 0, 0, 0, 0, 0, 0, 0, 0, 0, 0, 0, 0, 0, 0, 0, 0, 0, 0, 0, 0, 0, 1]]]\n",
      "[0, 0, 0, 0, 0, 1, 0, 1, 0, 0, 1, 0, 1, 2, 3, 4, 5, 6, 7, 8, 9, 10, 11, 12, 13, 14, 15, 16, 17, 18, 19, 20, 21, 22, 23, 24, 25, 26, 27, 28, 29, 30, 31, 32, 33, 34, 35, 36, 37, 38, 39, 40, 41, 42, 43, 44, 45, 46, 47, 48, 49, 50, 51, 52, 53, 54, 55, 56, 57, 58, 59, 60, 61, 62, 63, 64, 65, 66, 67, 68, 69, 70, 71, 72, 73, 74, 75, 76, 77, 78, 79, 80, 81, 82, 83, 84, 85, 86, 87, 88, 89, 90, 91, 92, 93, 94, 95, 96, 97, 98, 99, 100, 101, 102, 103, 104, 105, 106, 107, 108, 109, 110, 111, 112, 113, 114, 115, 116, 117, 118, 119, 120, 121, 122, 123, 124, 125, 126, 127, 128, 129, 130, 131, 132, 133, 134, 135, 136, 137, 138, 139, 140, 141, 142, 143, 144, 145, 146, 147, 148, 149, 150, 151, 152, 153, 154, 155, 156, 157, 158, 159, 160, 161, 162, 163, 164, 165, 166, 167, 168, 169, 170, 171, 172, 173, 174, 175, 176]\n"
     ]
    },
    {
     "data": {
      "image/png": "[encoded data removed]",
      "text/plain": [
       "<Figure size 640x480 with 1 Axes>"
      ]
     },
     "metadata": {},
     "output_type": "display_data"
    },
    {
     "data": {
      "image/png": "[encoded data removed]",
      "text/plain": [
       "<Figure size 640x480 with 1 Axes>"
      ]
     },
     "metadata": {},
     "output_type": "display_data"
    }
   ],
   "source": [
    "xpoints, ypoints, mc, se, diff_p, artifact, mci = correct_robustly(\"data/simplest.txt\", \"111110101101\", 3)\n",
    "print(se)\n",
    "print(artifact)\n",
    "print(mci)\n",
    "# Plot\n",
    "plt.title(\"MC\")\n",
    "plt.plot([i for i in range(len(mc))], mc)\n",
    "plt.show()\n",
    "# Plot\n",
    "plt.title(\"DP\")\n",
    "plt.plot(xpoints, ypoints)\n",
    "plt.show()"
   ]
  },
  {
   "cell_type": "code",
   "execution_count": null,
   "id": "7db1feba-fa99-4e2e-8b4f-a4527d3e185a",
   "metadata": {},
   "outputs": [],
   "source": []
  },
  {
   "cell_type": "code",
   "execution_count": null,
   "id": "495b384e-783f-4822-a6e7-bb1fbc253d04",
   "metadata": {},
   "outputs": [],
   "source": []
  }
 ],
 "metadata": {
  "kernelspec": {
   "display_name": "Python 3 (ipykernel)",
   "language": "python",
   "name": "python3"
  },
  "language_info": {
   "codemirror_mode": {
    "name": "ipython",
    "version": 3
   },
   "file_extension": ".py",
   "mimetype": "text/x-python",
   "name": "python",
   "nbconvert_exporter": "python",
   "pygments_lexer": "ipython3",
   "version": "3.11.9"
  }
 },
 "nbformat": 4,
 "nbformat_minor": 5
}
