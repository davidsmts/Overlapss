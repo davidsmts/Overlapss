{
 "cells": [
  {
   "cell_type": "markdown",
   "id": "02acaa85-7908-48a5-8d9c-229af76574bf",
   "metadata": {},
   "source": [
    "# Extended CoCo"
   ]
  },
  {
   "cell_type": "code",
   "execution_count": null,
   "id": "1a5e7b18-1c50-4fdc-9cbd-86b077635e07",
   "metadata": {},
   "outputs": [],
   "source": []
  }
 ],
 "metadata": {
  "kernelspec": {
   "display_name": "Python 3 (ipykernel)",
   "language": "python",
   "name": "python3"
  },
  "language_info": {
   "codemirror_mode": {
    "name": "ipython",
    "version": 3
   },
   "file_extension": ".py",
   "mimetype": "text/x-python",
   "name": "python",
   "nbconvert_exporter": "python",
   "pygments_lexer": "ipython3",
   "version": "3.11.9"
  }
 },
 "nbformat": 4,
 "nbformat_minor": 5
}
