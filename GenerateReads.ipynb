{
 "cells": [
  {
   "cell_type": "code",
   "execution_count": 43,
   "id": "68324cdb-d205-4f43-876b-49569f671f9b",
   "metadata": {},
   "outputs": [],
   "source": [
    "import numpy as np"
   ]
  },
  {
   "cell_type": "code",
   "execution_count": 44,
   "id": "65fce22a-1072-4b8c-88c9-072912447847",
   "metadata": {},
   "outputs": [],
   "source": [
    "def parse_nucleotides(sequence):\n",
    "    new_seq = []\n",
    "    map_to_vals = {\"a\": 1, \"c\": 2, \"g\": 3, \"t\":4}\n",
    "    for symbol in sequence:\n",
    "        new_seq.append(map_to_vals[symbol])\n",
    "        \n",
    "    return new_seq"
   ]
  },
  {
   "cell_type": "code",
   "execution_count": 51,
   "id": "0085c57d-8c4b-43b6-b20a-cb52226b8366",
   "metadata": {},
   "outputs": [],
   "source": [
    "def get_reads_from(seq, read_len=200, coverage=5):\n",
    "    L = len(seq)\n",
    "    read_amt = int(L/read_len * coverage)\n",
    "    reads = []\n",
    "    for _ in range(read_amt):\n",
    "        start = np.random.randint(0,L-read_len)\n",
    "        read = seq[start:start+read_len]\n",
    "        reads.append(read)\n",
    "    return reads"
   ]
  },
  {
   "cell_type": "markdown",
   "id": "45c1b489-95f0-43a8-a0bf-cf881a5e30ac",
   "metadata": {},
   "source": [
    "## For the standard longseq.txt :"
   ]
  },
  {
   "cell_type": "code",
   "execution_count": 52,
   "id": "98775fcf-695b-4508-8701-1a1747a23772",
   "metadata": {},
   "outputs": [],
   "source": [
    "with open(\"data/longseq.txt\") as file_in:\n",
    "    seqs = []\n",
    "    for line in file_in:\n",
    "        newline = line.rstrip('\\n')\n",
    "        sequence_chars = [char for char in newline]\n",
    "        #sequence = parse_nucleotides(sequence_chars)\n",
    "        seqs.append(sequence_chars)\n",
    "\n",
    "longseq = seqs[0]"
   ]
  },
  {
   "cell_type": "code",
   "execution_count": 71,
   "id": "b329e02e-66fa-42ca-b665-9bfee04fc277",
   "metadata": {},
   "outputs": [],
   "source": [
    "reads = get_reads_from(longseq, read_len=250, coverage=40)"
   ]
  },
  {
   "cell_type": "code",
   "execution_count": 72,
   "id": "954f1855-1db8-4be3-89ee-fd8772216ba9",
   "metadata": {},
   "outputs": [],
   "source": [
    "with open(\"./data/output.txt\", \"w\") as txt_file:\n",
    "    for i in range(len(reads)-1):\n",
    "        line = reads[i]\n",
    "        txt_file.write(\"\".join(line) + \"\\n\")\n",
    "    txt_file.write(\"\".join(line))"
   ]
  },
  {
   "cell_type": "markdown",
   "id": "9b5e338e-764f-429c-a759-1fd3e5314ea4",
   "metadata": {},
   "source": [
    "### Introduce mistake in the middle of the first read"
   ]
  },
  {
   "cell_type": "code",
   "execution_count": 5,
   "id": "fb428fb3-9283-432e-8ce9-7b3533ab6895",
   "metadata": {},
   "outputs": [
    {
     "name": "stdout",
     "output_type": "stream",
     "text": [
      "0;79: g->t\n"
     ]
    }
   ],
   "source": [
    "with open(\"data/output.txt\") as file_in:\n",
    "    reads = []\n",
    "    for line in file_in:\n",
    "        newline = line.rstrip('\\n')\n",
    "        sequence_chars = [char for char in newline]\n",
    "        #sequence = parse_nucleotides(sequence_chars)\n",
    "        reads.append(sequence_chars)\n",
    "\n",
    "mistake_no = 1\n",
    "for _ in range(mistake_no):\n",
    "    read_index = np.random.randint(0,len(reads))\n",
    "    read_index = 0\n",
    "    chosen_seq = reads[read_index]\n",
    "    index = np.random.randint(0,len(chosen_seq)-30)\n",
    "    #index = 1\n",
    "    val = reads[read_index][index]\n",
    "    possible_vals = [\"c\",\"g\",\"t\",\"a\"]\n",
    "    possible_vals.remove(val)\n",
    "    other_val = possible_vals[np.random.randint(0,len(possible_vals))]\n",
    "    print(str(read_index) +\";\"+ str(index) +\": \" +str(val)+ \"->\"+ str(other_val))\n",
    "    reads[read_index][index] = other_val\n",
    "\n",
    "with open(\"./data/manipulated_output.txt\", \"w\") as txt_file:\n",
    "    for line in reads:\n",
    "            txt_file.write(\"\".join(line) + \"\\n\")"
   ]
  },
  {
   "cell_type": "markdown",
   "id": "f5f7a02f-63dd-4d03-bdb8-afbc2f377178",
   "metadata": {},
   "source": [
    "## For circular longseq"
   ]
  },
  {
   "cell_type": "code",
   "execution_count": 40,
   "id": "e8c0e31a-0162-46a0-8f66-64f7e945024b",
   "metadata": {},
   "outputs": [],
   "source": [
    "with open(\"data/longcircular-seq.txt\") as file_in:\n",
    "    seqs = []\n",
    "    for line in file_in:\n",
    "        newline = line.rstrip('\\n')\n",
    "        sequence_chars = [char for char in newline]\n",
    "        #sequence = parse_nucleotides(sequence_chars)\n",
    "        seqs.append(sequence_chars)\n",
    "\n",
    "longcirc = seqs[0]"
   ]
  },
  {
   "cell_type": "code",
   "execution_count": 41,
   "id": "d1c572e2-b9a4-4673-8f86-35c722a86974",
   "metadata": {},
   "outputs": [],
   "source": [
    "reads = get_reads_from(longcirc, read_len=250, coverage=8)"
   ]
  },
  {
   "cell_type": "code",
   "execution_count": 42,
   "id": "1e5ffb24-69e7-4bbf-b91f-13976cc09bed",
   "metadata": {},
   "outputs": [],
   "source": [
    "with open(\"./data/longcirc_reads.txt\", \"w\") as txt_file:\n",
    "    for i in range(len(reads)-1):\n",
    "        line = reads[i]\n",
    "        txt_file.write(\"\".join(line) + \"\\n\")\n",
    "    txt_file.write(\"\".join(line))"
   ]
  },
  {
   "cell_type": "code",
   "execution_count": null,
   "id": "e58c0f27-fdbc-4edd-838f-a5f6140cbc78",
   "metadata": {},
   "outputs": [],
   "source": []
  }
 ],
 "metadata": {
  "kernelspec": {
   "display_name": "Python 3 (ipykernel)",
   "language": "python",
   "name": "python3"
  },
  "language_info": {
   "codemirror_mode": {
    "name": "ipython",
    "version": 3
   },
   "file_extension": ".py",
   "mimetype": "text/x-python",
   "name": "python",
   "nbconvert_exporter": "python",
   "pygments_lexer": "ipython3",
   "version": "3.11.9"
  }
 },
 "nbformat": 4,
 "nbformat_minor": 5
}
