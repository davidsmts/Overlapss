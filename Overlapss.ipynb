{
 "cells": [
  {
   "cell_type": "code",
   "execution_count": 15,
   "id": "bd1460ae-2c49-47ec-8d2c-252137af5336",
   "metadata": {},
   "outputs": [],
   "source": [
    "import numpy as np\n",
    "import matplotlib.pyplot as plt"
   ]
  },
  {
   "cell_type": "code",
   "execution_count": 16,
   "id": "8c2b2725-d394-4a81-96e6-0c83f34656c1",
   "metadata": {},
   "outputs": [],
   "source": [
    "def random_seq(length=250):\n",
    "    indices = np.random.randint(0, 3, size=(length))\n",
    "    chars = [\"a\", \"c\", \"g\", \"t\"]\n",
    "    sequence = []\n",
    "    for index in indices:\n",
    "        sequence.append(chars[index])\n",
    "    \n",
    "    return sequence"
   ]
  },
  {
   "cell_type": "code",
   "execution_count": 17,
   "id": "d7cc1959-8e11-4c24-95fa-fe814d792c8a",
   "metadata": {},
   "outputs": [],
   "source": [
    "def get_reads_from(seq, read_len=200, coverage=5):\n",
    "    L = len(seq)\n",
    "    read_amt = int(L/read_len * coverage)\n",
    "    reads = []\n",
    "    for _ in range(read_amt):\n",
    "        start = np.random.randint(0,L-read_len)\n",
    "        read = seq[start:start+read_len]\n",
    "        reads.append(read)\n",
    "    return reads"
   ]
  },
  {
   "cell_type": "code",
   "execution_count": 18,
   "id": "91a561a1-45e9-429b-a6fe-11ff3230fe05",
   "metadata": {},
   "outputs": [],
   "source": [
    "def parse_nucleotides(sequence):\n",
    "    new_seq = []\n",
    "    map_to_vals = {\"a\": 1, \"c\": 2, \"g\": 3, \"t\":4}\n",
    "    for symbol in sequence:\n",
    "        new_seq.append(map_to_vals[symbol])\n",
    "        \n",
    "    return new_seq"
   ]
  },
  {
   "cell_type": "code",
   "execution_count": 19,
   "id": "d5d5190c-a786-4529-a455-64a2e4a2a83e",
   "metadata": {},
   "outputs": [],
   "source": [
    "def getskmer(snippet, profile):\n",
    "    spaced_kmer = snippet * profile\n",
    "    spaced_kmer = spaced_kmer[spaced_kmer != 0]\n",
    "    s = ''.join(str(x) for x in spaced_kmer)\n",
    "    return s"
   ]
  },
  {
   "cell_type": "code",
   "execution_count": 20,
   "id": "433a8beb-8b96-44df-a539-e2f6409cfa4d",
   "metadata": {},
   "outputs": [],
   "source": [
    "def get_maxcount(pos, seqs, seqs_kmers, spaced_kmer_profile, seq_to_investigate=0):\n",
    "    target = seqs[seq_to_investigate]\n",
    "    f = len(spaced_kmer_profile)\n",
    "    counts_i = []\n",
    "    indexes = []\n",
    "    len_loop = min(f-1, pos)\n",
    "    start = pos-len_loop\n",
    "    end = pos+1\n",
    "    for i in range(start, end):\n",
    "        if spaced_kmer_profile[pos-i] != 1:\n",
    "            counts_i.append(0)\n",
    "            indexes.append(-1)\n",
    "            continue\n",
    "        \n",
    "        # Extract k mers starting at selected position\n",
    "        spaced_kmer = target[i : i+f] * spaced_kmer_profile\n",
    "        spaced_kmer = spaced_kmer[spaced_kmer != 0]\n",
    "        s = ''.join(str(x) for x in spaced_kmer)\n",
    "        counts_i.append(seqs_kmers[s])\n",
    "        indexes.append(i)\n",
    "    \n",
    "    return max(counts_i), indexes[np.argmax(counts_i)]"
   ]
  },
  {
   "cell_type": "code",
   "execution_count": 25,
   "id": "4a26f82e-8a34-45d5-a69a-836b4af20b57",
   "metadata": {},
   "outputs": [],
   "source": [
    "def get_correction_profile(target, seqs, overlap_size):\n",
    "    corr_profile = [0 for i in range(len(target)-overlap_size)]\n",
    "    #corr_profile[0] = -1\n",
    "    for i in range(len(target)-overlap_size):\n",
    "        #\n",
    "        #if i == 0:\n",
    "            # Note that this whole check is necessary because our target sequence, i.e. the read we are investigating at the moment\n",
    "            # also starts at the beginning and would thus be added to the count profile. We anticipate this by increasing the correction\n",
    "            # profile at this point to one s.t. the loop below can reduce it to zero in the first step if just our sequence starts there.\n",
    "            # If another sequence starts here, then the loop below will reduce the correction profile below zero\n",
    "            #corr_profile[0] = 1\n",
    "        for seq in seqs:\n",
    "            if (target[i : i+overlap_size] == seq[0 : overlap_size]).all(): # starts\n",
    "                corr_profile[i] -= 1\n",
    "            elif (target[i : i+overlap_size] == seq[len(seq)-overlap_size : len(seq)]).all(): # ends\n",
    "                corr_profile[i] += 1\n",
    "    corr_profile[0]=0\n",
    "    return corr_profile"
   ]
  },
  {
   "cell_type": "code",
   "execution_count": 26,
   "id": "094d1bb4-b40a-4a2a-a9f3-566d905606d4",
   "metadata": {},
   "outputs": [],
   "source": [
    "#\n",
    "# CORRECT COUNTS - AN ATTEMPT AT FIXING THE ECLIPSE ERROR\n",
    "#\n",
    "def correct_counts(maxed_counts, maxed_count_indices, target_sequence, start_end_posis, seqs, diff_profile, kmer_profile):\n",
    "    f = len(kmer_profile)\n",
    "    correction_artifact = []\n",
    "    last_correction = 0 \n",
    "    # When corrections are necessary they are written into the maxed_counts array\n",
    "    for i in range(1,len(maxed_count_indices)):\n",
    "        # Make sure we have a change position on our hands.\n",
    "        if maxed_counts[i] != maxed_counts[i-1]: \n",
    "            # Correct for reads that start in between the two maxed_count indices:\n",
    "            #start_sum_at = max(i-f,0)\n",
    "            #start_sum_at = max(0, maxed_count_indices[i-1]-f+1)\n",
    "            '''\n",
    "            start_sum_at = maxed_count_indices[i-1]\n",
    "            end_sum_at = maxed_count_indices[i]+1\n",
    "            if start_sum_at <= end_sum_at:\n",
    "                correction = sum(start_end_posis[start_sum_at:end_sum_at])\n",
    "            else:\n",
    "                correction = -sum(start_end_posis[end_sum_at:start_sum_at])\n",
    "            diff_profile[i-1] += correction\n",
    "            correction_artifact.append([correction, (start_sum_at, end_sum_at), start_end_posis[start_sum_at:end_sum_at]])\n",
    "            '''\n",
    "            start_sum_at = last_correction\n",
    "            end_sum_at = maxed_count_indices[i]+1\n",
    "            #end_sum_at = i+1\n",
    "            \n",
    "            if start_sum_at <= end_sum_at:\n",
    "                correction = sum(start_end_posis[start_sum_at:end_sum_at])\n",
    "            else:\n",
    "                correction = -sum(start_end_posis[end_sum_at:start_sum_at])\n",
    "                \n",
    "            # This if clause tries to prevent the eclipse\n",
    "            # The important part of this is that the last_correction is not updated if we have a SNP or seqerr\n",
    "            #if diff_profile[i-1] + correction == 0: # If not we have a SNP or seq error\n",
    "            last_correction = maxed_count_indices[i] + 1\n",
    "            diff_profile[i-1] += correction\n",
    "            correction_artifact.append([correction, (start_sum_at, end_sum_at), start_end_posis[start_sum_at:end_sum_at]])\n",
    "            \n",
    "            #else:\n",
    "                #print(\"ABORTED:\")\n",
    "                #print(end_sum_at)\n",
    "                #print(start_end_posis[start_sum_at:end_sum_at])\n",
    "    return diff_profile, correction_artifact"
   ]
  },
  {
   "cell_type": "code",
   "execution_count": 27,
   "id": "171e108b-b92d-4990-bdfb-494493069acc",
   "metadata": {},
   "outputs": [],
   "source": [
    "def correct_diff_profile(filename, str_profile, seq_to_investigate, data=[]):\n",
    "    seqs = []\n",
    "    if data:\n",
    "        for read in data:\n",
    "            sequence_chars = [val for val in read]\n",
    "            sequence = parse_nucleotides(sequence_chars)\n",
    "            seqs.append(np.array(sequence))\n",
    "    else:\n",
    "        with open(filename) as file_in:\n",
    "            for line in file_in:\n",
    "                newline = line.rstrip('\\n')\n",
    "                sequence_chars = [char for char in newline]\n",
    "                sequence = parse_nucleotides(sequence_chars)\n",
    "                seqs.append(np.array(sequence))\n",
    "    \n",
    "    profile = [int(character) for character in str_profile]\n",
    "    k = sum(profile)\n",
    "    f = len(profile)\n",
    "    \n",
    "    # Turn into np arrays for componentwise multiplication\n",
    "    profile = np.array(profile)\n",
    "    \n",
    "    # Count occurence of spaced k-mers\n",
    "    seqs_kmers = {}\n",
    "    for sequence in seqs:\n",
    "        for i in range(len(sequence) - f):\n",
    "            spaced_kmer = sequence[i:i+f] * profile\n",
    "            spaced_kmer = spaced_kmer[spaced_kmer != 0]\n",
    "            s = ''.join(str(x) for x in spaced_kmer)\n",
    "            if s not in seqs_kmers:\n",
    "                seqs_kmers[s] = 1\n",
    "            else:\n",
    "                seqs_kmers[s] += 1\n",
    "    \n",
    "    # Get maxcounts from counts\n",
    "    target = seqs[seq_to_investigate]\n",
    "    xpoints = np.array([i for i in range(len(target) - f)])\n",
    "    max_counts = []\n",
    "    max_count_indices = []\n",
    "    for i in range(len(xpoints)):\n",
    "        maxp, argmaxp = get_maxcount(i, seqs, seqs_kmers, profile, seq_to_investigate=seq_to_investigate)\n",
    "        max_counts.append(maxp)\n",
    "        max_count_indices.append(argmaxp)\n",
    "    #print(max_count_indices)\n",
    "    # Get correction profile:\n",
    "    start_end_posis = get_correction_profile(target, seqs, f)\n",
    "    #print(start_end_posis)\n",
    "    #print(max_count_indices)\n",
    "    \n",
    "    # Get diff profile:\n",
    "    pre_corr_diff_profile = [max_counts[j] - max_counts[j-1] for j in range(1,len(max_counts))]\n",
    "    \n",
    "    # Apply correction strategy\n",
    "    ypoints, correction_artifact = correct_counts(max_counts, max_count_indices, target, start_end_posis, seqs, pre_corr_diff_profile.copy(), profile)\n",
    "    return xpoints[1:], ypoints, max_counts, start_end_posis, pre_corr_diff_profile, correction_artifact, max_count_indices\n"
   ]
  },
  {
   "cell_type": "code",
   "execution_count": 30,
   "id": "8bf9a675-867d-415e-b9a8-d03343008321",
   "metadata": {},
   "outputs": [
    {
     "data": {
      "image/png": "[encoded data removed]",
      "text/plain": [
       "<Figure size 640x480 with 1 Axes>"
      ]
     },
     "metadata": {},
     "output_type": "display_data"
    },
    {
     "data": {
      "image/png": "[encoded data removed]",
      "text/plain": [
       "<Figure size 640x480 with 1 Axes>"
      ]
     },
     "metadata": {},
     "output_type": "display_data"
    }
   ],
   "source": [
    "#\n",
    "xpoints, ypoints, _, _, _, _, _ = correct_diff_profile(\"./data/twostrains.txt\", \"1111110110110101110101011101011111101111\", 1)\n",
    "xpoints_solid, ypoints_solid, _, _, _, _, _ = correct_diff_profile(\"./data/twostrains.txt\", \"1111111111111111111111111111111111111111\", 1)\n",
    "#\n",
    "plt.title(\"spaced corrected diff profile \")\n",
    "plt.plot(xpoints, ypoints)\n",
    "plt.show()\n",
    "#\n",
    "plt.title(\"solid corrected diff profile \")\n",
    "plt.plot(xpoints_solid, ypoints_solid)\n",
    "plt.show()"
   ]
  },
  {
   "cell_type": "code",
   "execution_count": null,
   "id": "239645fa-bb33-411d-9af0-9f7029881173",
   "metadata": {},
   "outputs": [],
   "source": []
  },
  {
   "cell_type": "code",
   "execution_count": null,
   "id": "fd0096b4-b3dc-44cf-8944-f68696122dda",
   "metadata": {},
   "outputs": [],
   "source": []
  },
  {
   "cell_type": "code",
   "execution_count": null,
   "id": "f77ebe29-96cb-4bba-a51d-0a12a708160b",
   "metadata": {},
   "outputs": [],
   "source": []
  },
  {
   "cell_type": "code",
   "execution_count": null,
   "id": "8d7d0e9c-b54b-46e6-b16b-955c8f68d570",
   "metadata": {},
   "outputs": [],
   "source": []
  }
 ],
 "metadata": {
  "kernelspec": {
   "display_name": "Python 3 (ipykernel)",
   "language": "python",
   "name": "python3"
  },
  "language_info": {
   "codemirror_mode": {
    "name": "ipython",
    "version": 3
   },
   "file_extension": ".py",
   "mimetype": "text/x-python",
   "name": "python",
   "nbconvert_exporter": "python",
   "pygments_lexer": "ipython3",
   "version": "3.11.9"
  }
 },
 "nbformat": 4,
 "nbformat_minor": 5
}
