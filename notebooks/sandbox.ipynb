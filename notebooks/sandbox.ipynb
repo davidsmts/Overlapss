{
 "cells": [
  {
   "cell_type": "code",
   "execution_count": 2,
   "id": "32a460ae-c47f-405e-a270-f4bcc958d7ac",
   "metadata": {},
   "outputs": [],
   "source": [
    "import numpy as np\n",
    "import matplotlib.pyplot as plt\n",
    "from Bio import SeqIO"
   ]
  },
  {
   "cell_type": "code",
   "execution_count": 3,
   "id": "790f8c7b-67a7-41b4-84a7-6758fe09bbad",
   "metadata": {},
   "outputs": [],
   "source": [
    "def write_fasta(seqs, filename):\n",
    "    with open(filename, \"w\") as file:\n",
    "        for i in range(len(seqs)-1):\n",
    "            #line = parse_num_to_nuc(seqs[i])\n",
    "            line = seqs[i]\n",
    "            strline = \"\".join(line) + \"\\n\"\n",
    "            file.write(\"> \" + str(i) + \"\\n\" + strline)\n",
    "        \n",
    "        #print(line)\n",
    "        file.write(\">last\\n\")\n",
    "        #line = parse_num_to_nuc(seqs[len(seqs)-1])\n",
    "        line = seqs[len(seqs)-1]\n",
    "        file.write(\"\".join(line))"
   ]
  },
  {
   "cell_type": "code",
   "execution_count": 28,
   "id": "5e5ce8b8-7cb3-4e0b-b3e3-8bc71aa38a48",
   "metadata": {},
   "outputs": [],
   "source": [
    "filename = \"../data/Pseudoalteromonas_translucida_KMM_520_genomic.fasta\""
   ]
  },
  {
   "cell_type": "code",
   "execution_count": 41,
   "id": "8fa1405b-ef34-4af5-ad7f-cdf43377d491",
   "metadata": {},
   "outputs": [
    {
     "name": "stdout",
     "output_type": "stream",
     "text": [
      "3390388\n",
      "757205\n"
     ]
    }
   ],
   "source": [
    "fasta_sequences = SeqIO.parse(open(filename),'fasta')\n",
    "seqs = []\n",
    "for fasta in fasta_sequences:\n",
    "    name, sequence = fasta.id, str(fasta.seq)\n",
    "    seqs.append(sequence)\n",
    "    print(len(sequence))"
   ]
  },
  {
   "cell_type": "code",
   "execution_count": 39,
   "id": "a2546332-cc80-448c-b64c-c77db7100f6b",
   "metadata": {},
   "outputs": [
    {
     "name": "stdout",
     "output_type": "stream",
     "text": [
      "Repeat start\n",
      "End of rep\n",
      "Repeat: (571924,573350)\n",
      "Repeat start\n",
      "End of rep\n",
      "Repeat: (606280,607706)\n",
      "1.0\n"
     ]
    }
   ],
   "source": [
    "seq_to_inv = 1\n",
    "seq = seqs[seq_to_inv]\n",
    "reps = 0\n",
    "k = 200\n",
    "seqs_kmers = {}\n",
    "for j in range(len(seq)-k):\n",
    "    kmer_j = seq[j:j+k]\n",
    "    seqs_kmers[kmer_j] = seqs_kmers.get(kmer_j, 0) + 1\n",
    "\n",
    "\n",
    "found_rep = False\n",
    "found_rep_j = 0\n",
    "rep = (0,0)\n",
    "repeats = []\n",
    "for j in range(len(seq)-k):\n",
    "    kmer_j = seq[j:j+k]\n",
    "    if seqs_kmers[kmer_j] > 1:\n",
    "        #print(\"Repeat of length \" + str(k) + \" at posi \" + str(j))\n",
    "        if not found_rep:\n",
    "            print(\"Repeat start\")\n",
    "            reps += 1\n",
    "            found_rep = True\n",
    "            found_rep_j = j\n",
    "    else:\n",
    "        if found_rep:\n",
    "            found_rep = False\n",
    "            print(\"End of rep\")\n",
    "            rep = (found_rep_j, k+j)\n",
    "            print(\"Repeat: (\" + str(rep[0]) + \",\" + str(rep[1]) + \")\")\n",
    "            repeats.append(rep)\n",
    "print(reps/2)"
   ]
  },
  {
   "cell_type": "code",
   "execution_count": 40,
   "id": "f31f3f2d-e41b-41b4-9947-9fdd95cb8aec",
   "metadata": {},
   "outputs": [],
   "source": [
    "\n",
    "# Create Track that shows where repeats are\n",
    "repeat_marker_sequence = []\n",
    "for i in range(len(seq)):\n",
    "    in_any = False\n",
    "    for rep in repeats:\n",
    "        if rep[0] <= i <= rep[1]:\n",
    "            in_any = True\n",
    "    if in_any:\n",
    "        repeat_marker_sequence.append(1)\n",
    "    else:\n",
    "        repeat_marker_sequence.append(0)\n",
    "label=\"\"\n",
    "if seq_to_inv == 0:\n",
    "    label = \"long\"\n",
    "else:\n",
    "    label = \"short\"\n",
    "with open(\"./repeat_marker_\"+label+\".wig\", \"w\") as file:\n",
    "    file.write(\"track type=wiggle_0\\n\")\n",
    "    file.write(\"fixedStep chrom=chr1 start=1 step=1\\n\")\n",
    "    #file.write(\"variableStep  chrom=chr1\\n\")\n",
    "    for i in range(len(repeat_marker_sequence)):\n",
    "        strline = str(repeat_marker_sequence[i]) + \"\\n\"\n",
    "        #strline = str(i) + \" \" + str(repeat_marker_sequence[i]) + \"\\n\"\n",
    "        file.write(strline)\n",
    "\n",
    "with open(\"./repeat_marker_\"+label+\"_fixed.wig\", \"w\") as file:\n",
    "    file.write(\"track type=wiggle_0\\n\")\n",
    "    #file.write(\"fixedStep chrom=chr1 start=1 step=1 \\n\")\n",
    "    file.write(\"variableStep  chrom=chr1\\n\")\n",
    "    for i in range(len(repeat_marker_sequence)):\n",
    "        #strline = str(repeat_marker_sequence[i]) + \"\\n\"\n",
    "        strline = str(i) + \" \" + str(repeat_marker_sequence[i]) + \"\\n\"\n",
    "        file.write(strline)"
   ]
  },
  {
   "cell_type": "code",
   "execution_count": 58,
   "id": "552b4118-59f2-4c7d-8114-3f49c8b1f951",
   "metadata": {},
   "outputs": [],
   "source": [
    "# Remove repeat from sequence and write sequence back into a fasta file\n",
    "clean_seq = seq[:rep[0]] + seq[rep[1]:]\n",
    "write_fasta([clean_seq], \"clean_sequence_1.fasta\")\n"
   ]
  },
  {
   "cell_type": "code",
   "execution_count": 46,
   "id": "520b3610-2b10-4d6f-a672-294460f6eb2e",
   "metadata": {},
   "outputs": [
    {
     "name": "stdout",
     "output_type": "stream",
     "text": [
      "Repeat start\n",
      "End of rep start 123756 : 264\n",
      "Repeat start\n",
      "End of rep start 124895 : 1117\n",
      "Repeat start\n",
      "End of rep start 125315 : 313\n",
      "Repeat start\n",
      "End of rep start 126344 : 1029\n",
      "Repeat start\n",
      "End of rep start 128080 : 1727\n",
      "Repeat start\n",
      "End of rep start 262711 : 265\n",
      "Repeat start\n",
      "End of rep start 264702 : 2087\n",
      "Repeat start\n",
      "End of rep start 267735 : 3036\n",
      "Repeat start\n",
      "End of rep start 551768 : 591\n",
      "Repeat start\n",
      "End of rep start 556063 : 4294\n",
      "Repeat start\n",
      "End of rep start 578591 : 1152\n",
      "Repeat start\n",
      "End of rep start 619751 : 254\n",
      "Repeat start\n",
      "End of rep start 677298 : 339\n",
      "Repeat start\n",
      "End of rep start 677643 : 312\n",
      "Repeat start\n",
      "End of rep start 678000 : 357\n",
      "Repeat start\n",
      "End of rep start 1687920 : 508\n",
      "Repeat start\n",
      "End of rep start 1693672 : 1183\n",
      "Repeat start\n",
      "End of rep start 2145241 : 557\n",
      "Repeat start\n",
      "End of rep start 2190830 : 479\n",
      "Repeat start\n",
      "End of rep start 2195517 : 356\n",
      "Repeat start\n",
      "End of rep start 2406293 : 1399\n",
      "Repeat start\n",
      "End of rep start 2515823 : 1074\n",
      "Repeat start\n",
      "End of rep start 2518508 : 2407\n",
      "Repeat start\n",
      "End of rep start 2669817 : 2921\n",
      "Repeat start\n",
      "End of rep start 2669948 : 328\n",
      "Repeat start\n",
      "End of rep start 2671519 : 1537\n",
      "Repeat start\n",
      "End of rep start 2671901 : 360\n",
      "Repeat start\n",
      "End of rep start 2804103 : 1268\n",
      "Repeat start\n",
      "End of rep start 3142049 : 800\n",
      "Repeat start\n",
      "End of rep start 3146411 : 4345\n",
      "Repeat start\n",
      "End of rep start 3146652 : 360\n",
      "Repeat start\n",
      "End of rep start 3162707 : 2494\n",
      "Repeat start\n",
      "End of rep start 3163341 : 406\n",
      "Repeat start\n",
      "End of rep start 3165246 : 1832\n",
      "Repeat start\n",
      "End of rep start 3203021 : 1400\n",
      "Repeat start\n",
      "End of rep start 3308747 : 1426\n",
      "Repeat start\n",
      "End of rep start 3367792 : 2633\n",
      "Repeat start\n",
      "End of rep start 3367924 : 360\n",
      "Repeat start\n",
      "End of rep start 3368269 : 345\n",
      "Repeat start\n",
      "End of rep start 3370178 : 1844\n",
      "40\n"
     ]
    }
   ],
   "source": [
    "seq = seqs[0]\n",
    "reps = 0\n",
    "k = 250\n",
    "seqs_kmers = {}\n",
    "found_rep = False\n",
    "found_rep_j = 0\n",
    "for j in range(len(seq)-k):\n",
    "    kmer_j = seq[j:j+k]\n",
    "    seqs_kmers[kmer_j] = seqs_kmers.get(kmer_j, 0) + 1\n",
    "    if seqs_kmers[kmer_j] > 1:\n",
    "        #print(\"Repeat of length \" + str(k) + \" at posi \" + str(j))\n",
    "        if not found_rep:\n",
    "            print(\"Repeat start\")\n",
    "            reps += 1\n",
    "            found_rep = True\n",
    "            found_rep_j = j\n",
    "    else:\n",
    "        if found_rep:\n",
    "            found_rep = False\n",
    "            print(\"End of rep start \" + str(j) + \" : \" +str(k + j - found_rep_j))\n",
    "print(reps)"
   ]
  },
  {
   "cell_type": "code",
   "execution_count": null,
   "id": "2caf7e72-6bd4-4a03-b9ab-ba5c196a6ee9",
   "metadata": {},
   "outputs": [],
   "source": []
  }
 ],
 "metadata": {
  "kernelspec": {
   "display_name": "Python 3 (ipykernel)",
   "language": "python",
   "name": "python3"
  },
  "language_info": {
   "codemirror_mode": {
    "name": "ipython",
    "version": 3
   },
   "file_extension": ".py",
   "mimetype": "text/x-python",
   "name": "python",
   "nbconvert_exporter": "python",
   "pygments_lexer": "ipython3",
   "version": "3.11.10"
  }
 },
 "nbformat": 4,
 "nbformat_minor": 5
}
